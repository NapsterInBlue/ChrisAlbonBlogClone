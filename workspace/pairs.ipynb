{
 "cells": [
  {
   "cell_type": "code",
   "execution_count": 1,
   "metadata": {
    "collapsed": true
   },
   "outputs": [],
   "source": [
    "import findspark\n",
    "findspark.init()\n",
    "\n",
    "import pyspark\n",
    "sc = pyspark.SparkContext()"
   ]
  },
  {
   "cell_type": "code",
   "execution_count": 2,
   "metadata": {
    "collapsed": true
   },
   "outputs": [],
   "source": [
    "ourPair = sc.parallelize([(1, 2), (3, 4), (3, 6)])"
   ]
  },
  {
   "cell_type": "code",
   "execution_count": 3,
   "metadata": {},
   "outputs": [
    {
     "data": {
      "text/plain": [
       "[(1, 2), (3, 10)]"
      ]
     },
     "execution_count": 3,
     "metadata": {},
     "output_type": "execute_result"
    }
   ],
   "source": [
    "ourPair.reduceByKey(lambda x, y: x + y).collect()"
   ]
  },
  {
   "cell_type": "code",
   "execution_count": 6,
   "metadata": {},
   "outputs": [
    {
     "data": {
      "text/plain": [
       "[(1, 2), (1, 3), (1, 4), (1, 5), (3, 4), (3, 5)]"
      ]
     },
     "execution_count": 6,
     "metadata": {},
     "output_type": "execute_result"
    }
   ],
   "source": [
    "ourPair.flatMapValues(lambda x: list(range(x, 6))).collect()"
   ]
  },
  {
   "cell_type": "code",
   "execution_count": 7,
   "metadata": {},
   "outputs": [
    {
     "data": {
      "text/plain": [
       "[(1, [2, 3, 4, 5]), (3, [4, 5]), (3, [])]"
      ]
     },
     "execution_count": 7,
     "metadata": {},
     "output_type": "execute_result"
    }
   ],
   "source": [
    "ourPair.mapValues(lambda x: list(range(x, 6))).collect()"
   ]
  },
  {
   "cell_type": "code",
   "execution_count": 9,
   "metadata": {
    "collapsed": true
   },
   "outputs": [],
   "source": [
    "gbk = ourPair.groupByKey()"
   ]
  },
  {
   "cell_type": "code",
   "execution_count": 10,
   "metadata": {
    "collapsed": true
   },
   "outputs": [],
   "source": [
    "from operator import add"
   ]
  },
  {
   "cell_type": "code",
   "execution_count": 14,
   "metadata": {},
   "outputs": [
    {
     "data": {
      "text/plain": [
       "PythonRDD[35] at RDD at PythonRDD.scala:48"
      ]
     },
     "execution_count": 14,
     "metadata": {},
     "output_type": "execute_result"
    }
   ],
   "source": [
    "gbk.reduceByKey(add)"
   ]
  },
  {
   "cell_type": "code",
   "execution_count": 15,
   "metadata": {
    "collapsed": true
   },
   "outputs": [],
   "source": [
    "rdd = sc.parallelize([1, 2, 3, 4, 5, 6])"
   ]
  },
  {
   "cell_type": "code",
   "execution_count": 25,
   "metadata": {},
   "outputs": [
    {
     "data": {
      "text/plain": [
       "[(4, 1), (1, 1), (5, 1), (2, 1), (6, 1), (3, 1)]"
      ]
     },
     "execution_count": 25,
     "metadata": {},
     "output_type": "execute_result"
    }
   ],
   "source": [
    "(rdd.map(lambda x: (x, 1))\n",
    "              .reduceByKey(lambda x, y: (x[0] + y[0], x[1] + y[1]))).collect()"
   ]
  },
  {
   "cell_type": "code",
   "execution_count": 8,
   "metadata": {
    "collapsed": true
   },
   "outputs": [],
   "source": [
    "text = sc.textFile('data/zen.txt')"
   ]
  },
  {
   "cell_type": "code",
   "execution_count": 9,
   "metadata": {
    "collapsed": true
   },
   "outputs": [],
   "source": [
    "import re\n",
    "\n",
    "words = text.flatMap(lambda x: x.split(' ')).map(lambda x: re.sub('[^\\w]', '', x.lower()))"
   ]
  },
  {
   "cell_type": "code",
   "execution_count": 13,
   "metadata": {},
   "outputs": [
    {
     "data": {
      "text/plain": [
       "[('is', 10),\n",
       " ('implicit', 1),\n",
       " ('in', 1),\n",
       " ('idea', 2),\n",
       " ('idealets', 1),\n",
       " ('it', 2),\n",
       " ('if', 2),\n",
       " ('implementation', 2),\n",
       " ('its', 1)]"
      ]
     },
     "execution_count": 13,
     "metadata": {},
     "output_type": "execute_result"
    }
   ],
   "source": [
    "(words.map(lambda x: (x, 1))\n",
    "      .filter(lambda key: key[0].startswith('i'))\n",
    "      .reduceByKey(lambda x, y: x + y)\n",
    "      .collect())"
   ]
  },
  {
   "cell_type": "code",
   "execution_count": 44,
   "metadata": {},
   "outputs": [
    {
     "data": {
      "text/plain": [
       "[('is', 10),\n",
       " ('than', 8),\n",
       " ('implicit', 1),\n",
       " ('simple', 1),\n",
       " ('complicated', 1),\n",
       " ('flat', 1),\n",
       " ('nested', 1),\n",
       " ('sparse', 1),\n",
       " ('readability', 1),\n",
       " ('counts', 1),\n",
       " ('cases', 1),\n",
       " ('rules', 1),\n",
       " ('although', 3),\n",
       " ('errors', 1),\n",
       " ('never', 3),\n",
       " ('pass', 1),\n",
       " ('explicitly', 1),\n",
       " ('silenced', 1),\n",
       " ('in', 1),\n",
       " ('of', 2),\n",
       " ('refuse', 1),\n",
       " ('temptation', 1),\n",
       " ('guess', 1),\n",
       " ('there', 1),\n",
       " ('oneand', 1),\n",
       " ('only', 1),\n",
       " ('oneobvious', 1),\n",
       " ('way', 2),\n",
       " ('do', 2),\n",
       " ('may', 2),\n",
       " ('at', 1),\n",
       " ('youre', 1),\n",
       " ('dutch', 1),\n",
       " ('now', 2),\n",
       " ('right', 1),\n",
       " ('idea', 2),\n",
       " ('good', 1),\n",
       " ('are', 1),\n",
       " ('honking', 1),\n",
       " ('idealets', 1),\n",
       " ('more', 1),\n",
       " ('beautiful', 1),\n",
       " ('better', 8),\n",
       " ('ugly', 1),\n",
       " ('explicit', 1),\n",
       " ('complex', 2),\n",
       " ('dense', 1),\n",
       " ('special', 2),\n",
       " ('arent', 1),\n",
       " ('enough', 1),\n",
       " ('to', 5),\n",
       " ('break', 1),\n",
       " ('the', 5),\n",
       " ('practicality', 1),\n",
       " ('beats', 1),\n",
       " ('purity', 1),\n",
       " ('should', 2),\n",
       " ('silently', 1),\n",
       " ('unless', 2),\n",
       " ('face', 1),\n",
       " ('ambiguity', 1),\n",
       " ('be', 3),\n",
       " ('preferably', 1),\n",
       " ('it', 2),\n",
       " ('that', 1),\n",
       " ('not', 1),\n",
       " ('obvious', 1),\n",
       " ('first', 1),\n",
       " ('often', 1),\n",
       " ('if', 2),\n",
       " ('implementation', 2),\n",
       " ('hard', 1),\n",
       " ('explain', 2),\n",
       " ('its', 1),\n",
       " ('a', 2),\n",
       " ('bad', 1),\n",
       " ('easy', 1),\n",
       " ('namespaces', 1),\n",
       " ('one', 1),\n",
       " ('great', 1),\n",
       " ('those', 1)]"
      ]
     },
     "execution_count": 44,
     "metadata": {},
     "output_type": "execute_result"
    }
   ],
   "source": [
    "words.map(lambda x: (x, 1)).reduceByKey(lambda x, y: x + y).collect()"
   ]
  },
  {
   "cell_type": "code",
   "execution_count": 29,
   "metadata": {
    "scrolled": false
   },
   "outputs": [
    {
     "name": "stdout",
     "output_type": "stream",
     "text": [
      "{'is': 2.0, 'than': 4.0, 'implicit': 8.0, 'simple': 6.0, 'complicated': 11.0, 'flat': 4.0, 'nested': 6.0, 'sparse': 6.0, 'readability': 11.0, 'counts': 6.0, 'cases': 5.0, 'rules': 5.0, 'although': 8.0, 'errors': 6.0, 'never': 5.0, 'pass': 4.0, 'explicitly': 10.0, 'silenced': 8.0, 'in': 2.0, 'of': 2.0, 'refuse': 6.0, 'temptation': 10.0, 'guess': 5.0, 'there': 5.0, 'oneand': 6.0, 'only': 4.0, 'oneobvious': 10.0, 'way': 3.0, 'do': 2.0, 'may': 3.0, 'at': 2.0, 'youre': 5.0, 'dutch': 5.0, 'now': 3.0, 'right': 5.0, 'idea': 4.0, 'good': 4.0, 'are': 3.0, 'honking': 7.0, 'idealets': 8.0, 'more': 4.0, 'beautiful': 9.0, 'better': 6.0, 'ugly': 4.0, 'explicit': 8.0, 'complex': 7.0, 'dense': 5.0, 'special': 7.0, 'arent': 5.0, 'enough': 6.0, 'to': 2.0, 'break': 5.0, 'the': 3.0, 'practicality': 12.0, 'beats': 5.0, 'purity': 6.0, 'should': 6.0, 'silently': 8.0, 'unless': 6.0, 'face': 4.0, 'ambiguity': 9.0, 'be': 2.0, 'preferably': 10.0, 'it': 2.0, 'that': 4.0, 'not': 3.0, 'obvious': 7.0, 'first': 5.0, 'often': 5.0, 'if': 2.0, 'implementation': 14.0, 'hard': 4.0, 'explain': 7.0, 'its': 3.0, 'a': 1.0, 'bad': 3.0, 'easy': 4.0, 'namespaces': 10.0, 'one': 3.0, 'great': 5.0, 'those': 5.0}\n"
     ]
    }
   ],
   "source": [
    "r = (words.map(lambda x: (x, len(x)))\n",
    "      .mapValues(lambda x: (x, 1))\n",
    "      .reduceByKey(lambda x, y: (x[0] + y[0], x[1] + y[1]))\n",
    "      .mapValues(lambda x: x[0] / x[1]).collectAsMap())\n",
    "\n",
    "print(r)"
   ]
  },
  {
   "cell_type": "code",
   "execution_count": 24,
   "metadata": {
    "collapsed": true
   },
   "outputs": [],
   "source": [
    "words.combineByKey?"
   ]
  },
  {
   "cell_type": "code",
   "execution_count": null,
   "metadata": {
    "collapsed": true
   },
   "outputs": [],
   "source": []
  }
 ],
 "metadata": {
  "kernelspec": {
   "display_name": "Python 3",
   "language": "python",
   "name": "python3"
  },
  "language_info": {
   "codemirror_mode": {
    "name": "ipython",
    "version": 3
   },
   "file_extension": ".py",
   "mimetype": "text/x-python",
   "name": "python",
   "nbconvert_exporter": "python",
   "pygments_lexer": "ipython3",
   "version": "3.6.3"
  }
 },
 "nbformat": 4,
 "nbformat_minor": 2
}
