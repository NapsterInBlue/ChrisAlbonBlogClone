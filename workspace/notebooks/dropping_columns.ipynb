{
 "cells": [
  {
   "cell_type": "raw",
   "metadata": {},
   "source": [
    "---\n",
    "title: \"Conditionally Dropping Columns\"\n",
    "date: 2018-06-07\n",
    "type: technical_note\n",
    "---"
   ]
  },
  {
   "cell_type": "code",
   "execution_count": 3,
   "metadata": {
    "collapsed": true
   },
   "outputs": [],
   "source": [
    "filepath = '../data/movieData.csv'"
   ]
  },
  {
   "cell_type": "markdown",
   "metadata": {},
   "source": [
    "## What We're Used To"
   ]
  },
  {
   "cell_type": "markdown",
   "metadata": {},
   "source": [
    "Dropping columns of data in `pandas` is a pretty trivial task."
   ]
  },
  {
   "cell_type": "code",
   "execution_count": 7,
   "metadata": {},
   "outputs": [
    {
     "data": {
      "text/html": [
       "<div>\n",
       "<style scoped>\n",
       "    .dataframe tbody tr th:only-of-type {\n",
       "        vertical-align: middle;\n",
       "    }\n",
       "\n",
       "    .dataframe tbody tr th {\n",
       "        vertical-align: top;\n",
       "    }\n",
       "\n",
       "    .dataframe thead th {\n",
       "        text-align: right;\n",
       "    }\n",
       "</style>\n",
       "<table border=\"1\" class=\"dataframe\">\n",
       "  <thead>\n",
       "    <tr style=\"text-align: right;\">\n",
       "      <th></th>\n",
       "      <th>Rank</th>\n",
       "      <th>WeeklyGross</th>\n",
       "      <th>PctChangeWkGross</th>\n",
       "      <th>Theaters</th>\n",
       "      <th>DeltaTheaters</th>\n",
       "      <th>AvgRev</th>\n",
       "      <th>GrossToDate</th>\n",
       "      <th>Week</th>\n",
       "      <th>Thursday</th>\n",
       "      <th>name</th>\n",
       "      <th>year</th>\n",
       "      <th>Winner</th>\n",
       "    </tr>\n",
       "  </thead>\n",
       "  <tbody>\n",
       "    <tr>\n",
       "      <th>0</th>\n",
       "      <td>17.0</td>\n",
       "      <td>967378</td>\n",
       "      <td>NaN</td>\n",
       "      <td>14.0</td>\n",
       "      <td>NaN</td>\n",
       "      <td>69098.0</td>\n",
       "      <td>967378</td>\n",
       "      <td>1</td>\n",
       "      <td>1990-11-18</td>\n",
       "      <td>dances with wolves</td>\n",
       "      <td>1990</td>\n",
       "      <td>True</td>\n",
       "    </tr>\n",
       "    <tr>\n",
       "      <th>1</th>\n",
       "      <td>9.0</td>\n",
       "      <td>3871641</td>\n",
       "      <td>300.0</td>\n",
       "      <td>14.0</td>\n",
       "      <td>NaN</td>\n",
       "      <td>276546.0</td>\n",
       "      <td>4839019</td>\n",
       "      <td>2</td>\n",
       "      <td>1990-11-25</td>\n",
       "      <td>dances with wolves</td>\n",
       "      <td>1990</td>\n",
       "      <td>True</td>\n",
       "    </tr>\n",
       "    <tr>\n",
       "      <th>2</th>\n",
       "      <td>3.0</td>\n",
       "      <td>12547813</td>\n",
       "      <td>224.0</td>\n",
       "      <td>1048.0</td>\n",
       "      <td>1034.0</td>\n",
       "      <td>11973.0</td>\n",
       "      <td>17386832</td>\n",
       "      <td>3</td>\n",
       "      <td>1990-12-02</td>\n",
       "      <td>dances with wolves</td>\n",
       "      <td>1990</td>\n",
       "      <td>True</td>\n",
       "    </tr>\n",
       "    <tr>\n",
       "      <th>3</th>\n",
       "      <td>4.0</td>\n",
       "      <td>9246632</td>\n",
       "      <td>-26.3</td>\n",
       "      <td>1053.0</td>\n",
       "      <td>5.0</td>\n",
       "      <td>8781.0</td>\n",
       "      <td>26633464</td>\n",
       "      <td>4</td>\n",
       "      <td>1990-12-09</td>\n",
       "      <td>dances with wolves</td>\n",
       "      <td>1990</td>\n",
       "      <td>True</td>\n",
       "    </tr>\n",
       "    <tr>\n",
       "      <th>4</th>\n",
       "      <td>4.0</td>\n",
       "      <td>7272350</td>\n",
       "      <td>-21.4</td>\n",
       "      <td>1051.0</td>\n",
       "      <td>-2.0</td>\n",
       "      <td>6919.0</td>\n",
       "      <td>33905814</td>\n",
       "      <td>5</td>\n",
       "      <td>1990-12-16</td>\n",
       "      <td>dances with wolves</td>\n",
       "      <td>1990</td>\n",
       "      <td>True</td>\n",
       "    </tr>\n",
       "  </tbody>\n",
       "</table>\n",
       "</div>"
      ],
      "text/plain": [
       "   Rank  WeeklyGross  PctChangeWkGross  Theaters  DeltaTheaters    AvgRev  \\\n",
       "0  17.0       967378               NaN      14.0            NaN   69098.0   \n",
       "1   9.0      3871641             300.0      14.0            NaN  276546.0   \n",
       "2   3.0     12547813             224.0    1048.0         1034.0   11973.0   \n",
       "3   4.0      9246632             -26.3    1053.0            5.0    8781.0   \n",
       "4   4.0      7272350             -21.4    1051.0           -2.0    6919.0   \n",
       "\n",
       "   GrossToDate  Week    Thursday                name  year  Winner  \n",
       "0       967378     1  1990-11-18  dances with wolves  1990    True  \n",
       "1      4839019     2  1990-11-25  dances with wolves  1990    True  \n",
       "2     17386832     3  1990-12-02  dances with wolves  1990    True  \n",
       "3     26633464     4  1990-12-09  dances with wolves  1990    True  \n",
       "4     33905814     5  1990-12-16  dances with wolves  1990    True  "
      ]
     },
     "execution_count": 7,
     "metadata": {},
     "output_type": "execute_result"
    }
   ],
   "source": [
    "import pandas as pd\n",
    "\n",
    "df = pd.read_csv(filepath)\n",
    "df.head()"
   ]
  },
  {
   "cell_type": "markdown",
   "metadata": {},
   "source": [
    "We can either specify which columns we want to drop."
   ]
  },
  {
   "cell_type": "code",
   "execution_count": 10,
   "metadata": {},
   "outputs": [
    {
     "data": {
      "text/html": [
       "<div>\n",
       "<style scoped>\n",
       "    .dataframe tbody tr th:only-of-type {\n",
       "        vertical-align: middle;\n",
       "    }\n",
       "\n",
       "    .dataframe tbody tr th {\n",
       "        vertical-align: top;\n",
       "    }\n",
       "\n",
       "    .dataframe thead th {\n",
       "        text-align: right;\n",
       "    }\n",
       "</style>\n",
       "<table border=\"1\" class=\"dataframe\">\n",
       "  <thead>\n",
       "    <tr style=\"text-align: right;\">\n",
       "      <th></th>\n",
       "      <th>PctChangeWkGross</th>\n",
       "      <th>Theaters</th>\n",
       "      <th>DeltaTheaters</th>\n",
       "      <th>AvgRev</th>\n",
       "      <th>GrossToDate</th>\n",
       "      <th>Week</th>\n",
       "      <th>Thursday</th>\n",
       "      <th>name</th>\n",
       "      <th>year</th>\n",
       "      <th>Winner</th>\n",
       "    </tr>\n",
       "  </thead>\n",
       "  <tbody>\n",
       "    <tr>\n",
       "      <th>0</th>\n",
       "      <td>NaN</td>\n",
       "      <td>14.0</td>\n",
       "      <td>NaN</td>\n",
       "      <td>69098.0</td>\n",
       "      <td>967378</td>\n",
       "      <td>1</td>\n",
       "      <td>1990-11-18</td>\n",
       "      <td>dances with wolves</td>\n",
       "      <td>1990</td>\n",
       "      <td>True</td>\n",
       "    </tr>\n",
       "    <tr>\n",
       "      <th>1</th>\n",
       "      <td>300.0</td>\n",
       "      <td>14.0</td>\n",
       "      <td>NaN</td>\n",
       "      <td>276546.0</td>\n",
       "      <td>4839019</td>\n",
       "      <td>2</td>\n",
       "      <td>1990-11-25</td>\n",
       "      <td>dances with wolves</td>\n",
       "      <td>1990</td>\n",
       "      <td>True</td>\n",
       "    </tr>\n",
       "    <tr>\n",
       "      <th>2</th>\n",
       "      <td>224.0</td>\n",
       "      <td>1048.0</td>\n",
       "      <td>1034.0</td>\n",
       "      <td>11973.0</td>\n",
       "      <td>17386832</td>\n",
       "      <td>3</td>\n",
       "      <td>1990-12-02</td>\n",
       "      <td>dances with wolves</td>\n",
       "      <td>1990</td>\n",
       "      <td>True</td>\n",
       "    </tr>\n",
       "    <tr>\n",
       "      <th>3</th>\n",
       "      <td>-26.3</td>\n",
       "      <td>1053.0</td>\n",
       "      <td>5.0</td>\n",
       "      <td>8781.0</td>\n",
       "      <td>26633464</td>\n",
       "      <td>4</td>\n",
       "      <td>1990-12-09</td>\n",
       "      <td>dances with wolves</td>\n",
       "      <td>1990</td>\n",
       "      <td>True</td>\n",
       "    </tr>\n",
       "    <tr>\n",
       "      <th>4</th>\n",
       "      <td>-21.4</td>\n",
       "      <td>1051.0</td>\n",
       "      <td>-2.0</td>\n",
       "      <td>6919.0</td>\n",
       "      <td>33905814</td>\n",
       "      <td>5</td>\n",
       "      <td>1990-12-16</td>\n",
       "      <td>dances with wolves</td>\n",
       "      <td>1990</td>\n",
       "      <td>True</td>\n",
       "    </tr>\n",
       "  </tbody>\n",
       "</table>\n",
       "</div>"
      ],
      "text/plain": [
       "   PctChangeWkGross  Theaters  DeltaTheaters    AvgRev  GrossToDate  Week  \\\n",
       "0               NaN      14.0            NaN   69098.0       967378     1   \n",
       "1             300.0      14.0            NaN  276546.0      4839019     2   \n",
       "2             224.0    1048.0         1034.0   11973.0     17386832     3   \n",
       "3             -26.3    1053.0            5.0    8781.0     26633464     4   \n",
       "4             -21.4    1051.0           -2.0    6919.0     33905814     5   \n",
       "\n",
       "     Thursday                name  year  Winner  \n",
       "0  1990-11-18  dances with wolves  1990    True  \n",
       "1  1990-11-25  dances with wolves  1990    True  \n",
       "2  1990-12-02  dances with wolves  1990    True  \n",
       "3  1990-12-09  dances with wolves  1990    True  \n",
       "4  1990-12-16  dances with wolves  1990    True  "
      ]
     },
     "execution_count": 10,
     "metadata": {},
     "output_type": "execute_result"
    }
   ],
   "source": [
    "df.drop(['Rank', 'WeeklyGross'], axis=1).head()"
   ]
  },
  {
   "cell_type": "markdown",
   "metadata": {},
   "source": [
    "Or write some condition to filter on and pipe it into the `DataFrame` selector"
   ]
  },
  {
   "cell_type": "code",
   "execution_count": 38,
   "metadata": {},
   "outputs": [],
   "source": [
    "wolfCount = df.apply(lambda x: x.map(str)\n",
    "                                .str.contains('wolves')).sum()\n",
    "colsWithWolves = wolfCount[wolfCount != 0].index"
   ]
  },
  {
   "cell_type": "code",
   "execution_count": 40,
   "metadata": {},
   "outputs": [
    {
     "data": {
      "text/html": [
       "<div>\n",
       "<style scoped>\n",
       "    .dataframe tbody tr th:only-of-type {\n",
       "        vertical-align: middle;\n",
       "    }\n",
       "\n",
       "    .dataframe tbody tr th {\n",
       "        vertical-align: top;\n",
       "    }\n",
       "\n",
       "    .dataframe thead th {\n",
       "        text-align: right;\n",
       "    }\n",
       "</style>\n",
       "<table border=\"1\" class=\"dataframe\">\n",
       "  <thead>\n",
       "    <tr style=\"text-align: right;\">\n",
       "      <th></th>\n",
       "      <th>name</th>\n",
       "    </tr>\n",
       "  </thead>\n",
       "  <tbody>\n",
       "    <tr>\n",
       "      <th>0</th>\n",
       "      <td>dances with wolves</td>\n",
       "    </tr>\n",
       "    <tr>\n",
       "      <th>1</th>\n",
       "      <td>dances with wolves</td>\n",
       "    </tr>\n",
       "    <tr>\n",
       "      <th>2</th>\n",
       "      <td>dances with wolves</td>\n",
       "    </tr>\n",
       "    <tr>\n",
       "      <th>3</th>\n",
       "      <td>dances with wolves</td>\n",
       "    </tr>\n",
       "    <tr>\n",
       "      <th>4</th>\n",
       "      <td>dances with wolves</td>\n",
       "    </tr>\n",
       "  </tbody>\n",
       "</table>\n",
       "</div>"
      ],
      "text/plain": [
       "                 name\n",
       "0  dances with wolves\n",
       "1  dances with wolves\n",
       "2  dances with wolves\n",
       "3  dances with wolves\n",
       "4  dances with wolves"
      ]
     },
     "execution_count": 40,
     "metadata": {},
     "output_type": "execute_result"
    }
   ],
   "source": [
    "df[colsWithWolves].head()"
   ]
  },
  {
   "cell_type": "markdown",
   "metadata": {},
   "source": [
    "Ez pz"
   ]
  },
  {
   "cell_type": "markdown",
   "metadata": {},
   "source": [
    "## Now Spark"
   ]
  },
  {
   "cell_type": "markdown",
   "metadata": {},
   "source": [
    "Similarly, if we want to read this in as a `Spark DataFrame`, we'd do the following."
   ]
  },
  {
   "cell_type": "code",
   "execution_count": null,
   "metadata": {
    "collapsed": true
   },
   "outputs": [],
   "source": [
    "import findspark\n",
    "findspark.init()\n",
    "\n",
    "import pyspark\n",
    "sc = pyspark.SparkContext()\n",
    "\n",
    "spark = pyspark.sql.SparkSession(sc)"
   ]
  },
  {
   "cell_type": "code",
   "execution_count": 46,
   "metadata": {},
   "outputs": [
    {
     "name": "stdout",
     "output_type": "stream",
     "text": [
      "+----+-----------+----------------+--------+-------------+--------+-----------+----+----------+------------------+----+------+\n",
      "|Rank|WeeklyGross|PctChangeWkGross|Theaters|DeltaTheaters|  AvgRev|GrossToDate|Week|  Thursday|              name|year|Winner|\n",
      "+----+-----------+----------------+--------+-------------+--------+-----------+----+----------+------------------+----+------+\n",
      "|17.0|     967378|            null|    14.0|         null| 69098.0|     967378|   1|1990-11-18|dances with wolves|1990|  True|\n",
      "| 9.0|    3871641|           300.0|    14.0|         null|276546.0|    4839019|   2|1990-11-25|dances with wolves|1990|  True|\n",
      "| 3.0|   12547813|           224.0|  1048.0|       1034.0| 11973.0|   17386832|   3|1990-12-02|dances with wolves|1990|  True|\n",
      "| 4.0|    9246632|           -26.3|  1053.0|          5.0|  8781.0|   26633464|   4|1990-12-09|dances with wolves|1990|  True|\n",
      "| 4.0|    7272350|           -21.4|  1051.0|         -2.0|  6919.0|   33905814|   5|1990-12-16|dances with wolves|1990|  True|\n",
      "+----+-----------+----------------+--------+-------------+--------+-----------+----+----------+------------------+----+------+\n",
      "only showing top 5 rows\n",
      "\n"
     ]
    }
   ],
   "source": [
    "df = spark.read.csv(filepath, header=True)\n",
    "\n",
    "df.show(5)"
   ]
  },
  {
   "cell_type": "markdown",
   "metadata": {},
   "source": [
    "But trying to drop columns is a little involved."
   ]
  },
  {
   "cell_type": "code",
   "execution_count": 47,
   "metadata": {
    "collapsed": true
   },
   "outputs": [],
   "source": [
    "from pyspark.sql import functions as F"
   ]
  },
  {
   "cell_type": "code",
   "execution_count": 51,
   "metadata": {},
   "outputs": [],
   "source": [
    "counts = df.select([F.count(F.when(F.isnan(c) | F.col(c).isNull(), c)).alias(c) for c in df.columns])"
   ]
  },
  {
   "cell_type": "code",
   "execution_count": 53,
   "metadata": {},
   "outputs": [
    {
     "name": "stdout",
     "output_type": "stream",
     "text": [
      "+----+-----------+----------------+--------+-------------+------+-----------+----+--------+----+----+------+\n",
      "|Rank|WeeklyGross|PctChangeWkGross|Theaters|DeltaTheaters|AvgRev|GrossToDate|Week|Thursday|name|year|Winner|\n",
      "+----+-----------+----------------+--------+-------------+------+-----------+----+--------+----+----+------+\n",
      "|   9|          0|             220|       9|          456|     9|          0|   0|       0|   0|   0|     0|\n",
      "+----+-----------+----------------+--------+-------------+------+-----------+----+--------+----+----+------+\n",
      "\n"
     ]
    }
   ],
   "source": [
    "counts.show()"
   ]
  },
  {
   "cell_type": "code",
   "execution_count": 70,
   "metadata": {
    "scrolled": false
   },
   "outputs": [
    {
     "name": "stdout",
     "output_type": "stream",
     "text": [
      "+----+-----------+----------------+--------+-------------+--------+-----------+----+----------+----+----+------+\n",
      "|Rank|WeeklyGross|PctChangeWkGross|Theaters|DeltaTheaters|  AvgRev|GrossToDate|Week|  Thursday|name|year|Winner|\n",
      "+----+-----------+----------------+--------+-------------+--------+-----------+----+----------+----+----+------+\n",
      "|17.0|     967378|            null|    14.0|         null| 69098.0|     967378|   1|1990-11-18|true|1990|  True|\n",
      "| 9.0|    3871641|           300.0|    14.0|         null|276546.0|    4839019|   2|1990-11-25|true|1990|  True|\n",
      "| 3.0|   12547813|           224.0|  1048.0|       1034.0| 11973.0|   17386832|   3|1990-12-02|true|1990|  True|\n",
      "| 4.0|    9246632|           -26.3|  1053.0|          5.0|  8781.0|   26633464|   4|1990-12-09|true|1990|  True|\n",
      "| 4.0|    7272350|           -21.4|  1051.0|         -2.0|  6919.0|   33905814|   5|1990-12-16|true|1990|  True|\n",
      "| 4.0|    6456867|           -11.2|  1196.0|        145.0|  5399.0|   40362681|   6|1990-12-23|true|1990|  True|\n",
      "| 4.0|    9301126|            44.1|  1254.0|         58.0|  7417.0|   49663807|   7|1990-12-30|true|1990|  True|\n",
      "| 4.0|   14154904|            52.2|  1269.0|         15.0| 11154.0|   63818711|   8|1991-01-06|true|1990|  True|\n",
      "| 4.0|   10020961|           -29.2|  1282.0|         13.0|  7817.0|   73839672|   9|1991-01-13|true|1990|  True|\n",
      "| 5.0|    7234933|           -27.8|  1285.0|          3.0|  5630.0|   81074605|  10|1991-01-20|true|1990|  True|\n",
      "| 4.0|    7007328|            -3.1|  1301.0|         16.0|  5386.0|   88081933|  11|1991-01-27|true|1990|  True|\n",
      "| 4.0|    5783004|           -17.5|  1302.0|          1.0|  4442.0|   93864937|  12|1991-02-03|true|1990|  True|\n",
      "| 2.0|    6141945|             6.2|  1343.0|         41.0|  4573.0|  100006882|  13|1991-02-10|true|1990|  True|\n",
      "| 5.0|    5533238|            -9.9|  1548.0|        205.0|  3574.0|  105540120|  14|1991-02-17|true|1990|  True|\n",
      "| 5.0|    7522086|            35.9|  1554.0|          6.0|  4840.0|  113062206|  15|1991-02-24|true|1990|  True|\n",
      "| 5.0|    5596752|           -25.6|  1602.0|         48.0|  3494.0|  118658958|  16|1991-03-03|true|1990|  True|\n",
      "| 4.0|    5203021|            -7.0|  1608.0|          6.0|  3236.0|  123861979|  17|1991-03-10|true|1990|  True|\n",
      "| 6.0|    4592552|           -11.7|  1572.0|        -36.0|  2921.0|  128454531|  18|1991-03-17|true|1990|  True|\n",
      "| 8.0|    4107112|           -10.6|  1545.0|        -27.0|  2658.0|  132561643|  19|1991-03-24|true|1990|  True|\n",
      "| 3.0|    6545293|            59.4|  1538.0|         -7.0|  4256.0|  139106936|  20|1991-03-31|true|1990|  True|\n",
      "+----+-----------+----------------+--------+-------------+--------+-----------+----+----------+----+----+------+\n",
      "only showing top 20 rows\n",
      "\n"
     ]
    }
   ],
   "source": [
    "df.withColumn('name', df['name'].contains('wolves')).show()"
   ]
  },
  {
   "cell_type": "code",
   "execution_count": 77,
   "metadata": {
    "collapsed": true
   },
   "outputs": [],
   "source": [
    "from pyspark.sql.functions import isnan, when, count, col\n",
    "\n",
    "counts = df.select([count(when(isnan(c) | col(c).isNull(), c)).alias(c) for c in df.columns])"
   ]
  },
  {
   "cell_type": "code",
   "execution_count": 104,
   "metadata": {},
   "outputs": [
    {
     "name": "stdout",
     "output_type": "stream",
     "text": [
      "+----+\n",
      "|name|\n",
      "+----+\n",
      "|true|\n",
      "|true|\n",
      "|true|\n",
      "|true|\n",
      "|true|\n",
      "|true|\n",
      "|true|\n",
      "|true|\n",
      "|true|\n",
      "|true|\n",
      "|true|\n",
      "|true|\n",
      "|true|\n",
      "|true|\n",
      "|true|\n",
      "|true|\n",
      "|true|\n",
      "|true|\n",
      "|true|\n",
      "|true|\n",
      "+----+\n",
      "only showing top 20 rows\n",
      "\n"
     ]
    }
   ],
   "source": [
    "df.select(count(col('name').contains('wolves')).alias('name')).show()"
   ]
  }
 ],
 "metadata": {
  "kernelspec": {
   "display_name": "Python 3",
   "language": "python",
   "name": "python3"
  },
  "language_info": {
   "codemirror_mode": {
    "name": "ipython",
    "version": 3
   },
   "file_extension": ".py",
   "mimetype": "text/x-python",
   "name": "python",
   "nbconvert_exporter": "python",
   "pygments_lexer": "ipython3",
   "version": "3.6.3"
  }
 },
 "nbformat": 4,
 "nbformat_minor": 2
}
