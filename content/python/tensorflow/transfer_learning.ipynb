{
 "cells": [
  {
   "cell_type": "raw",
   "metadata": {},
   "source": [
    "---\n",
    "title: \"Transfer Learning\"\n",
    "date: 2018-10-06\n",
    "type: technical_note\n",
    "---"
   ]
  },
  {
   "cell_type": "markdown",
   "metadata": {},
   "source": [
    "*Transfer learning* is the act of using a pre-trained network as a way to give you a huge head start on training a neural network for whatever your current application is. There are a number of canonical networks floating around, all trained on significantly-better hardware than you or I readliy have on hand, furthermore, because so many of the earlier layers are so abstract, they're often useful for whatever purpose you're designing with, out of the box."
   ]
  },
  {
   "cell_type": "markdown",
   "metadata": {},
   "source": [
    "## A Dataset"
   ]
  },
  {
   "cell_type": "code",
   "execution_count": 2,
   "metadata": {},
   "outputs": [
    {
     "name": "stdout",
     "output_type": "stream",
     "text": [
      "Populating the interactive namespace from numpy and matplotlib\n"
     ]
    },
    {
     "name": "stderr",
     "output_type": "stream",
     "text": [
      "Using TensorFlow backend.\n"
     ]
    }
   ],
   "source": [
    "%pylab inline\n",
    "\n",
    "from keras.datasets import cifar10\n",
    "from sklearn.model_selection import train_test_split"
   ]
  },
  {
   "cell_type": "code",
   "execution_count": 3,
   "metadata": {},
   "outputs": [],
   "source": [
    "(x_train, y_train), (x_test, y_test) = cifar10.load_data()\n",
    "\n",
    "x_dev, x_test, y_dev, y_test = train_test_split(x_test, y_test, test_size=.6, train_size=.4)"
   ]
  },
  {
   "cell_type": "markdown",
   "metadata": {},
   "source": [
    "It's comprised of 60 thousand records."
   ]
  },
  {
   "cell_type": "code",
   "execution_count": 4,
   "metadata": {},
   "outputs": [
    {
     "data": {
      "text/plain": [
       "(50000, 4000, 6000)"
      ]
     },
     "execution_count": 4,
     "metadata": {},
     "output_type": "execute_result"
    }
   ],
   "source": [
    "len(x_train), len(x_dev), len(x_test)"
   ]
  },
  {
   "cell_type": "markdown",
   "metadata": {},
   "source": [
    "Where each image is `32 x 32`"
   ]
  },
  {
   "cell_type": "code",
   "execution_count": 5,
   "metadata": {},
   "outputs": [
    {
     "data": {
      "text/plain": [
       "(32, 32, 3)"
      ]
     },
     "execution_count": 5,
     "metadata": {},
     "output_type": "execute_result"
    }
   ],
   "source": [
    "x_train[0].shape"
   ]
  },
  {
   "cell_type": "markdown",
   "metadata": {},
   "source": [
    "and an RGB image sampled from 10 different classes"
   ]
  },
  {
   "cell_type": "code",
   "execution_count": 6,
   "metadata": {},
   "outputs": [
    {
     "data": {
      "text/plain": [
       "array([0, 1, 2, 3, 4, 5, 6, 7, 8, 9], dtype=uint8)"
      ]
     },
     "execution_count": 6,
     "metadata": {},
     "output_type": "execute_result"
    }
   ],
   "source": [
    "np.unique(y_train)"
   ]
  },
  {
   "cell_type": "markdown",
   "metadata": {},
   "source": [
    "including"
   ]
  },
  {
   "cell_type": "code",
   "execution_count": 7,
   "metadata": {},
   "outputs": [],
   "source": [
    "CLASSES = ['AIRPLANE', 'AUTOMOBILE', 'BIRD', 'CAT', 'DEER',\n",
    "           'DOG', 'FROG', 'HORSE', 'SHIP', 'TRUCK']"
   ]
  },
  {
   "cell_type": "code",
   "execution_count": 8,
   "metadata": {},
   "outputs": [
    {
     "data": {
      "text/plain": [
       "<matplotlib.image.AxesImage at 0x19df90b8>"
      ]
     },
     "execution_count": 8,
     "metadata": {},
     "output_type": "execute_result"
    },
    {
     "data": {
      "image/png": "[encoded data removed]",
      "text/plain": [
       "<Figure size 432x288 with 1 Axes>"
      ]
     },
     "metadata": {},
     "output_type": "display_data"
    }
   ],
   "source": [
    "plt.imshow(x_train[0])"
   ]
  },
  {
   "cell_type": "markdown",
   "metadata": {},
   "source": [
    "However, to predict in a multi-class fashion, we'll need to go from one column vector of integers"
   ]
  },
  {
   "cell_type": "code",
   "execution_count": 9,
   "metadata": {},
   "outputs": [
    {
     "data": {
      "text/plain": [
       "(50000, 1)"
      ]
     },
     "execution_count": 9,
     "metadata": {},
     "output_type": "execute_result"
    }
   ],
   "source": [
    "y_train.shape"
   ]
  },
  {
   "cell_type": "markdown",
   "metadata": {},
   "source": [
    "To encoded representations of the same data"
   ]
  },
  {
   "cell_type": "code",
   "execution_count": 11,
   "metadata": {},
   "outputs": [],
   "source": [
    "from keras.utils import to_categorical\n",
    "\n",
    "y_train = to_categorical(y_train)\n",
    "y_dev = to_categorical(y_dev)\n",
    "y_test = to_categorical(y_test)"
   ]
  },
  {
   "cell_type": "code",
   "execution_count": 12,
   "metadata": {},
   "outputs": [
    {
     "data": {
      "text/plain": [
       "(50000, 10)"
      ]
     },
     "execution_count": 12,
     "metadata": {},
     "output_type": "execute_result"
    }
   ],
   "source": [
    "y_train.shape"
   ]
  },
  {
   "cell_type": "markdown",
   "metadata": {},
   "source": [
    "## Borrowing VGG"
   ]
  },
  {
   "cell_type": "markdown",
   "metadata": {},
   "source": [
    "For simplicity's sake, we're going to load [the VGG Architecture](https://napsterinblue.github.io/notes/machine_learning/computer_vision/vgg/) for our transfer learning.\n",
    "\n",
    "It was trained on `224x244` images, targeting 10 different classes. But because our image size is of a different resolution, we can't utilize the 3 hidden layers that come with VGG (hence the arguments below)."
   ]
  },
  {
   "cell_type": "code",
   "execution_count": 9,
   "metadata": {
    "scrolled": false
   },
   "outputs": [],
   "source": [
    "from keras.applications.vgg16 import VGG16\n",
    "\n",
    "model = VGG16(input_shape=(32, 32, 3), include_top=False)"
   ]
  },
  {
   "cell_type": "markdown",
   "metadata": {},
   "source": [
    "If we call `model.predict()` on one of our inputs, we obviously don't get back the multiclass prediction we're after."
   ]
  },
  {
   "cell_type": "code",
   "execution_count": 10,
   "metadata": {},
   "outputs": [
    {
     "data": {
      "text/plain": [
       "(5, 1, 1, 512)"
      ]
     },
     "execution_count": 10,
     "metadata": {},
     "output_type": "execute_result"
    }
   ],
   "source": [
    "model.predict(x_train[0:5]).shape"
   ]
  },
  {
   "cell_type": "markdown",
   "metadata": {},
   "source": [
    "We want to reference the first and last layers for our next steps. Looking at the summary, we can see the names of each layer."
   ]
  },
  {
   "cell_type": "code",
   "execution_count": 11,
   "metadata": {},
   "outputs": [
    {
     "name": "stdout",
     "output_type": "stream",
     "text": [
      "_________________________________________________________________\n",
      "Layer (type)                 Output Shape              Param #   \n",
      "=================================================================\n",
      "input_1 (InputLayer)         (None, 32, 32, 3)         0         \n",
      "_________________________________________________________________\n",
      "block1_conv1 (Conv2D)        (None, 32, 32, 64)        1792      \n",
      "_________________________________________________________________\n",
      "block1_conv2 (Conv2D)        (None, 32, 32, 64)        36928     \n",
      "_________________________________________________________________\n",
      "block1_pool (MaxPooling2D)   (None, 16, 16, 64)        0         \n",
      "_________________________________________________________________\n",
      "block2_conv1 (Conv2D)        (None, 16, 16, 128)       73856     \n",
      "_________________________________________________________________\n",
      "block2_conv2 (Conv2D)        (None, 16, 16, 128)       147584    \n",
      "_________________________________________________________________\n",
      "block2_pool (MaxPooling2D)   (None, 8, 8, 128)         0         \n",
      "_________________________________________________________________\n",
      "block3_conv1 (Conv2D)        (None, 8, 8, 256)         295168    \n",
      "_________________________________________________________________\n",
      "block3_conv2 (Conv2D)        (None, 8, 8, 256)         590080    \n",
      "_________________________________________________________________\n",
      "block3_conv3 (Conv2D)        (None, 8, 8, 256)         590080    \n",
      "_________________________________________________________________\n",
      "block3_pool (MaxPooling2D)   (None, 4, 4, 256)         0         \n",
      "_________________________________________________________________\n",
      "block4_conv1 (Conv2D)        (None, 4, 4, 512)         1180160   \n",
      "_________________________________________________________________\n",
      "block4_conv2 (Conv2D)        (None, 4, 4, 512)         2359808   \n",
      "_________________________________________________________________\n",
      "block4_conv3 (Conv2D)        (None, 4, 4, 512)         2359808   \n",
      "_________________________________________________________________\n",
      "block4_pool (MaxPooling2D)   (None, 2, 2, 512)         0         \n",
      "_________________________________________________________________\n",
      "block5_conv1 (Conv2D)        (None, 2, 2, 512)         2359808   \n",
      "_________________________________________________________________\n",
      "block5_conv2 (Conv2D)        (None, 2, 2, 512)         2359808   \n",
      "_________________________________________________________________\n",
      "block5_conv3 (Conv2D)        (None, 2, 2, 512)         2359808   \n",
      "_________________________________________________________________\n",
      "block5_pool (MaxPooling2D)   (None, 1, 1, 512)         0         \n",
      "=================================================================\n",
      "Total params: 14,714,688\n",
      "Trainable params: 14,714,688\n",
      "Non-trainable params: 0\n",
      "_________________________________________________________________\n"
     ]
    }
   ],
   "source": [
    "model.summary()"
   ]
  },
  {
   "cell_type": "markdown",
   "metadata": {},
   "source": [
    "We'll use `model.get_layer()` to reference a layer by name, then `.output` to get its symbolic reference that we can use as an input later"
   ]
  },
  {
   "cell_type": "code",
   "execution_count": 13,
   "metadata": {},
   "outputs": [],
   "source": [
    "input_layer = model.get_layer('input_1').output\n",
    "last_pooling_layer = model.get_layer('block5_pool').output"
   ]
  },
  {
   "cell_type": "markdown",
   "metadata": {},
   "source": [
    "This allows us to tack on the typical Fully Connected layers that we see at the end of convolutional networks."
   ]
  },
  {
   "cell_type": "code",
   "execution_count": 14,
   "metadata": {},
   "outputs": [],
   "source": [
    "from keras.layers import Flatten, Dense\n",
    "\n",
    "flatten = Flatten()(last_pooling_layer)\n",
    "\n",
    "fc1 = Dense(100, activation='relu', )(flatten)\n",
    "fc2 = Dense(100, activation='relu')(fc1)\n",
    "\n",
    "output_layer = Dense(10, activation='softmax')(fc2)"
   ]
  },
  {
   "cell_type": "markdown",
   "metadata": {},
   "source": [
    "All of the architecting out of the way, let's save this as its own object now, creating a new `Model` object and telling it where execution starts and ends."
   ]
  },
  {
   "cell_type": "code",
   "execution_count": 15,
   "metadata": {},
   "outputs": [],
   "source": [
    "from keras.models import Model\n",
    "\n",
    "custom_model = Model(input_layer, output_layer)"
   ]
  },
  {
   "cell_type": "markdown",
   "metadata": {},
   "source": [
    "If you look at a summary, you'll notice our 3 Fully Connected layers are now integrated."
   ]
  },
  {
   "cell_type": "code",
   "execution_count": 16,
   "metadata": {},
   "outputs": [
    {
     "name": "stdout",
     "output_type": "stream",
     "text": [
      "_________________________________________________________________\n",
      "Layer (type)                 Output Shape              Param #   \n",
      "=================================================================\n",
      "input_1 (InputLayer)         (None, 32, 32, 3)         0         \n",
      "_________________________________________________________________\n",
      "block1_conv1 (Conv2D)        (None, 32, 32, 64)        1792      \n",
      "_________________________________________________________________\n",
      "block1_conv2 (Conv2D)        (None, 32, 32, 64)        36928     \n",
      "_________________________________________________________________\n",
      "block1_pool (MaxPooling2D)   (None, 16, 16, 64)        0         \n",
      "_________________________________________________________________\n",
      "block2_conv1 (Conv2D)        (None, 16, 16, 128)       73856     \n",
      "_________________________________________________________________\n",
      "block2_conv2 (Conv2D)        (None, 16, 16, 128)       147584    \n",
      "_________________________________________________________________\n",
      "block2_pool (MaxPooling2D)   (None, 8, 8, 128)         0         \n",
      "_________________________________________________________________\n",
      "block3_conv1 (Conv2D)        (None, 8, 8, 256)         295168    \n",
      "_________________________________________________________________\n",
      "block3_conv2 (Conv2D)        (None, 8, 8, 256)         590080    \n",
      "_________________________________________________________________\n",
      "block3_conv3 (Conv2D)        (None, 8, 8, 256)         590080    \n",
      "_________________________________________________________________\n",
      "block3_pool (MaxPooling2D)   (None, 4, 4, 256)         0         \n",
      "_________________________________________________________________\n",
      "block4_conv1 (Conv2D)        (None, 4, 4, 512)         1180160   \n",
      "_________________________________________________________________\n",
      "block4_conv2 (Conv2D)        (None, 4, 4, 512)         2359808   \n",
      "_________________________________________________________________\n",
      "block4_conv3 (Conv2D)        (None, 4, 4, 512)         2359808   \n",
      "_________________________________________________________________\n",
      "block4_pool (MaxPooling2D)   (None, 2, 2, 512)         0         \n",
      "_________________________________________________________________\n",
      "block5_conv1 (Conv2D)        (None, 2, 2, 512)         2359808   \n",
      "_________________________________________________________________\n",
      "block5_conv2 (Conv2D)        (None, 2, 2, 512)         2359808   \n",
      "_________________________________________________________________\n",
      "block5_conv3 (Conv2D)        (None, 2, 2, 512)         2359808   \n",
      "_________________________________________________________________\n",
      "block5_pool (MaxPooling2D)   (None, 1, 1, 512)         0         \n",
      "_________________________________________________________________\n",
      "flatten_1 (Flatten)          (None, 512)               0         \n",
      "_________________________________________________________________\n",
      "dense_1 (Dense)              (None, 100)               51300     \n",
      "_________________________________________________________________\n",
      "dense_2 (Dense)              (None, 100)               10100     \n",
      "_________________________________________________________________\n",
      "dense_3 (Dense)              (None, 10)                1010      \n",
      "=================================================================\n",
      "Total params: 14,777,098\n",
      "Trainable params: 14,777,098\n",
      "Non-trainable params: 0\n",
      "_________________________________________________________________\n"
     ]
    }
   ],
   "source": [
    "custom_model.summary()"
   ]
  },
  {
   "cell_type": "markdown",
   "metadata": {},
   "source": [
    "### Training"
   ]
  },
  {
   "cell_type": "markdown",
   "metadata": {},
   "source": [
    "We're likely pretty happy with all of the feature extraction layers, so we're not going to bother training them."
   ]
  },
  {
   "cell_type": "code",
   "execution_count": 17,
   "metadata": {},
   "outputs": [],
   "source": [
    "for layer in custom_model.layers:\n",
    "    if 'dense' not in layer.name:\n",
    "        layer.trainable = False"
   ]
  },
  {
   "cell_type": "markdown",
   "metadata": {},
   "source": [
    "So all that remains for training are the Weights and Biases of of our last 3 layers."
   ]
  },
  {
   "cell_type": "code",
   "execution_count": 18,
   "metadata": {},
   "outputs": [
    {
     "data": {
      "text/plain": [
       "[<tf.Variable 'dense_1/kernel:0' shape=(512, 100) dtype=float32_ref>,\n",
       " <tf.Variable 'dense_1/bias:0' shape=(100,) dtype=float32_ref>,\n",
       " <tf.Variable 'dense_2/kernel:0' shape=(100, 100) dtype=float32_ref>,\n",
       " <tf.Variable 'dense_2/bias:0' shape=(100,) dtype=float32_ref>,\n",
       " <tf.Variable 'dense_3/kernel:0' shape=(100, 10) dtype=float32_ref>,\n",
       " <tf.Variable 'dense_3/bias:0' shape=(10,) dtype=float32_ref>]"
      ]
     },
     "execution_count": 18,
     "metadata": {},
     "output_type": "execute_result"
    }
   ],
   "source": [
    "custom_model.trainable_weights"
   ]
  },
  {
   "cell_type": "code",
   "execution_count": 19,
   "metadata": {},
   "outputs": [],
   "source": [
    "custom_model.compile(optimizer='adam', loss='categorical_crossentropy', metrics=['accuracy'])"
   ]
  },
  {
   "cell_type": "code",
   "execution_count": 20,
   "metadata": {},
   "outputs": [
    {
     "name": "stdout",
     "output_type": "stream",
     "text": [
      "Train on 50000 samples, validate on 4000 samples\n",
      "Epoch 1/25\n",
      "50000/50000 [==============================] - 31s 628us/step - loss: 1.9130 - acc: 0.4657 - val_loss: 1.3241 - val_acc: 0.5480\n",
      "Epoch 2/25\n",
      "50000/50000 [==============================] - 31s 611us/step - loss: 1.2163 - acc: 0.5788 - val_loss: 1.2273 - val_acc: 0.5767\n",
      "Epoch 3/25\n",
      "50000/50000 [==============================] - 31s 611us/step - loss: 1.1125 - acc: 0.6146 - val_loss: 1.2250 - val_acc: 0.5880\n",
      "Epoch 4/25\n",
      "50000/50000 [==============================] - 30s 609us/step - loss: 1.0503 - acc: 0.6330 - val_loss: 1.1574 - val_acc: 0.6072\n",
      "Epoch 5/25\n",
      "50000/50000 [==============================] - 30s 607us/step - loss: 0.9992 - acc: 0.6519 - val_loss: 1.1526 - val_acc: 0.6132\n",
      "Epoch 6/25\n",
      "50000/50000 [==============================] - 30s 608us/step - loss: 0.9539 - acc: 0.6685 - val_loss: 1.1981 - val_acc: 0.6055\n",
      "Epoch 7/25\n",
      "50000/50000 [==============================] - 30s 608us/step - loss: 0.9098 - acc: 0.6809 - val_loss: 1.2198 - val_acc: 0.6090\n",
      "Epoch 8/25\n",
      "50000/50000 [==============================] - 30s 606us/step - loss: 0.8749 - acc: 0.6928 - val_loss: 1.2167 - val_acc: 0.6138\n",
      "Epoch 9/25\n",
      "50000/50000 [==============================] - 30s 605us/step - loss: 0.8414 - acc: 0.7032 - val_loss: 1.2613 - val_acc: 0.6160\n",
      "Epoch 10/25\n",
      "50000/50000 [==============================] - 30s 605us/step - loss: 0.8093 - acc: 0.7153 - val_loss: 1.2791 - val_acc: 0.6080\n",
      "Epoch 11/25\n",
      "50000/50000 [==============================] - 30s 604us/step - loss: 0.7743 - acc: 0.7287 - val_loss: 1.3124 - val_acc: 0.6115\n",
      "Epoch 12/25\n",
      "50000/50000 [==============================] - 30s 606us/step - loss: 0.7469 - acc: 0.7378 - val_loss: 1.3678 - val_acc: 0.6015\n",
      "Epoch 13/25\n",
      "50000/50000 [==============================] - 30s 605us/step - loss: 0.7244 - acc: 0.7437 - val_loss: 1.3916 - val_acc: 0.6080\n",
      "Epoch 14/25\n",
      "50000/50000 [==============================] - 30s 604us/step - loss: 0.6981 - acc: 0.7523 - val_loss: 1.4360 - val_acc: 0.5952\n",
      "Epoch 15/25\n",
      "50000/50000 [==============================] - 30s 604us/step - loss: 0.6784 - acc: 0.7607 - val_loss: 1.5204 - val_acc: 0.6035\n",
      "Epoch 16/25\n",
      "50000/50000 [==============================] - 32s 638us/step - loss: 0.6561 - acc: 0.7692 - val_loss: 1.5805 - val_acc: 0.5965\n",
      "Epoch 17/25\n",
      "50000/50000 [==============================] - 32s 642us/step - loss: 0.6324 - acc: 0.7753 - val_loss: 1.5846 - val_acc: 0.6008\n",
      "Epoch 18/25\n",
      "50000/50000 [==============================] - 31s 629us/step - loss: 0.6222 - acc: 0.7799 - val_loss: 1.6183 - val_acc: 0.5962\n",
      "Epoch 19/25\n",
      "50000/50000 [==============================] - 31s 618us/step - loss: 0.6026 - acc: 0.7870 - val_loss: 1.7264 - val_acc: 0.5952\n",
      "Epoch 20/25\n",
      "50000/50000 [==============================] - 30s 607us/step - loss: 0.5866 - acc: 0.7899 - val_loss: 1.6992 - val_acc: 0.5965\n",
      "Epoch 21/25\n",
      "50000/50000 [==============================] - 30s 606us/step - loss: 0.5731 - acc: 0.7978 - val_loss: 1.7372 - val_acc: 0.5942\n",
      "Epoch 22/25\n",
      "50000/50000 [==============================] - 30s 608us/step - loss: 0.5630 - acc: 0.7999 - val_loss: 1.7800 - val_acc: 0.5880\n",
      "Epoch 23/25\n",
      "50000/50000 [==============================] - 31s 628us/step - loss: 0.5455 - acc: 0.8062 - val_loss: 1.8512 - val_acc: 0.5942\n",
      "Epoch 24/25\n",
      "50000/50000 [==============================] - 31s 626us/step - loss: 0.5433 - acc: 0.8076 - val_loss: 1.8810 - val_acc: 0.5897\n",
      "Epoch 25/25\n",
      "50000/50000 [==============================] - 30s 603us/step - loss: 0.5257 - acc: 0.8140 - val_loss: 1.9463 - val_acc: 0.5905\n"
     ]
    },
    {
     "data": {
      "text/plain": [
       "<keras.callbacks.History at 0x28c97f28>"
      ]
     },
     "execution_count": 20,
     "metadata": {},
     "output_type": "execute_result"
    }
   ],
   "source": [
    "custom_model.fit(x_train, y_train, validation_data=(x_dev, y_dev), epochs=25)"
   ]
  },
  {
   "cell_type": "markdown",
   "metadata": {},
   "source": [
    "Huzzah, it's only kind of crap!"
   ]
  },
  {
   "cell_type": "code",
   "execution_count": 21,
   "metadata": {},
   "outputs": [
    {
     "name": "stdout",
     "output_type": "stream",
     "text": [
      "6000/6000 [==============================] - 2s 369us/step\n"
     ]
    },
    {
     "data": {
      "text/plain": [
       "[1.9473781655629476, 0.5876666666666667]"
      ]
     },
     "execution_count": 21,
     "metadata": {},
     "output_type": "execute_result"
    }
   ],
   "source": [
    "custom_model.evaluate(x_test, y_test)"
   ]
  },
  {
   "cell_type": "code",
   "execution_count": 101,
   "metadata": {},
   "outputs": [],
   "source": [
    "test_idx = 11"
   ]
  },
  {
   "cell_type": "code",
   "execution_count": 102,
   "metadata": {},
   "outputs": [
    {
     "data": {
      "text/plain": [
       "<matplotlib.image.AxesImage at 0x2ab12cf8>"
      ]
     },
     "execution_count": 102,
     "metadata": {},
     "output_type": "execute_result"
    },
    {
     "data": {
      "image/png": "[encoded data removed]",
      "text/plain": [
       "<Figure size 432x288 with 1 Axes>"
      ]
     },
     "metadata": {},
     "output_type": "display_data"
    }
   ],
   "source": [
    "test_image = x_test[test_idx]\n",
    "plt.imshow(test_image)"
   ]
  },
  {
   "cell_type": "code",
   "execution_count": 103,
   "metadata": {},
   "outputs": [],
   "source": [
    "# tensorflow expects multiple records, thus\n",
    "# a 4th dimension\n",
    "test_image = test_image.reshape(1, 32, 32, 3)"
   ]
  },
  {
   "cell_type": "code",
   "execution_count": 104,
   "metadata": {},
   "outputs": [],
   "source": [
    "result = custom_model.predict(test_image)"
   ]
  },
  {
   "cell_type": "code",
   "execution_count": 105,
   "metadata": {
    "scrolled": true
   },
   "outputs": [
    {
     "name": "stdout",
     "output_type": "stream",
     "text": [
      "Prediction: DEER\n",
      "Actual:     BIRD\n"
     ]
    }
   ],
   "source": [
    "print('Prediction:', CLASSES[result.argmax()])\n",
    "\n",
    "print('Actual:    ', CLASSES[y_test[test_idx].argmax()])"
   ]
  }
 ],
 "metadata": {
  "kernelspec": {
   "display_name": "Python 3",
   "language": "python",
   "name": "python3"
  },
  "language_info": {
   "codemirror_mode": {
    "name": "ipython",
    "version": 3
   },
   "file_extension": ".py",
   "mimetype": "text/x-python",
   "name": "python",
   "nbconvert_exporter": "python",
   "pygments_lexer": "ipython3",
   "version": "3.6.5"
  }
 },
 "nbformat": 4,
 "nbformat_minor": 2
}
