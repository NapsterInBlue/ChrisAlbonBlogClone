{
 "cells": [
  {
   "cell_type": "raw",
   "metadata": {},
   "source": [
    "---\n",
    "title: \"Interaction Terms in Python\"\n",
    "date: 2019-09-11\n",
    "type: technical_note\n",
    "---"
   ]
  },
  {
   "cell_type": "markdown",
   "metadata": {},
   "source": [
    "## Vanilla OLS"
   ]
  },
  {
   "cell_type": "markdown",
   "metadata": {},
   "source": [
    "Say we've got a dataset"
   ]
  },
  {
   "cell_type": "code",
   "execution_count": 1,
   "metadata": {},
   "outputs": [],
   "source": [
    "from warnings import filterwarnings\n",
    "filterwarnings('ignore')"
   ]
  },
  {
   "cell_type": "code",
   "execution_count": null,
   "metadata": {},
   "outputs": [],
   "source": [
    "from yellowbrick.datasets import load_bikeshare\n",
    "\n",
    "X, y = load_bikeshare()"
   ]
  },
  {
   "cell_type": "markdown",
   "metadata": {},
   "source": [
    "Where we measure the number of DC-area bikes rented"
   ]
  },
  {
   "cell_type": "code",
   "execution_count": null,
   "metadata": {},
   "outputs": [],
   "source": [
    "y.head()"
   ]
  },
  {
   "cell_type": "markdown",
   "metadata": {},
   "source": [
    "Based on a number of features"
   ]
  },
  {
   "cell_type": "code",
   "execution_count": null,
   "metadata": {},
   "outputs": [],
   "source": [
    "X.head()"
   ]
  },
  {
   "cell_type": "markdown",
   "metadata": {},
   "source": [
    "And just shoving everything into a Logistic Regression seems to work... alright"
   ]
  },
  {
   "cell_type": "code",
   "execution_count": null,
   "metadata": {},
   "outputs": [],
   "source": [
    "from statsmodels.api import OLS\n",
    "import statsmodels.api as sm\n",
    "\n",
    "X_const = sm.add_constant(X)\n",
    "model = OLS(y, X_const).fit()\n",
    "model.summary()"
   ]
  },
  {
   "cell_type": "markdown",
   "metadata": {},
   "source": [
    "But at the same time, have good reason to believe that there's some colinearity/interaction at play with our features."
   ]
  },
  {
   "cell_type": "code",
   "execution_count": null,
   "metadata": {},
   "outputs": [],
   "source": [
    "from yellowbrick.features import Rank2D\n",
    "\n",
    "visualizer = Rank2D(algorithm='pearson', size=(600, 500))\n",
    "visualizer.fit_transform(X)\n",
    "visualizer.poof();"
   ]
  },
  {
   "cell_type": "markdown",
   "metadata": {},
   "source": [
    "## Interaction Terms "
   ]
  },
  {
   "cell_type": "markdown",
   "metadata": {},
   "source": [
    "From here, a good data scientist will take the time to do exploratory analysis and thoughtful feature engineering-- this is the \"More Art than Science\" adage you hear so often.\n",
    "\n",
    "But we're trying to be home by 5, so how do we cram everything in and see what shakes out?\n",
    "\n",
    "### Getting Values\n",
    "Thankfully, the `PolynomialFeatures` object in `sklearn` has us mostly-covered.\n",
    "\n",
    "It's originally used to generate sequences of `(b_i1 * x_i) + (b_i2 * x_i^2) + ...` for each feature in `X`, taking us from `n` features to `2^n` features (in the case of `PolynomialFeatures(degree=2)`, anyhow).\n",
    "\n",
    "We're not interested in polynomials, per se, but if you squint, the same `itertools` magic™ that powers the backend of this can also be used to provide all pairwise feature combinations, with minimal rewriting. They provide this, ez pz, with the `interaction_only` flag.\n",
    "\n",
    "And so we go from"
   ]
  },
  {
   "cell_type": "code",
   "execution_count": null,
   "metadata": {},
   "outputs": [],
   "source": [
    "X.shape"
   ]
  },
  {
   "cell_type": "markdown",
   "metadata": {},
   "source": [
    "To an expected $\\frac{p * (p - 1)}{2}$ pairs, plus our original $p$ features, plus a bias term"
   ]
  },
  {
   "cell_type": "code",
   "execution_count": null,
   "metadata": {},
   "outputs": [],
   "source": [
    "p = len(X.columns)\n",
    "(p * (p-1)) / 2 + p + 1"
   ]
  },
  {
   "cell_type": "markdown",
   "metadata": {},
   "source": [
    "Coolio"
   ]
  },
  {
   "cell_type": "code",
   "execution_count": null,
   "metadata": {},
   "outputs": [],
   "source": [
    "from sklearn.preprocessing import PolynomialFeatures\n",
    "\n",
    "interaction = PolynomialFeatures(degree=2, interaction_only=True, include_bias=False)\n",
    "X_inter = interaction.fit_transform(X)\n",
    "X_inter_const = sm.add_constant(X_inter)\n",
    "\n",
    "X_inter_const.shape"
   ]
  },
  {
   "cell_type": "markdown",
   "metadata": {},
   "source": [
    "Now we brazenly throw it into a new model, and... oh. A lot of features called `x`"
   ]
  },
  {
   "cell_type": "code",
   "execution_count": null,
   "metadata": {
    "scrolled": false
   },
   "outputs": [],
   "source": [
    "model = OLS(y, X_inter_const).fit()\n",
    "model.summary()"
   ]
  },
  {
   "cell_type": "markdown",
   "metadata": {},
   "source": [
    "### Feature Names?"
   ]
  },
  {
   "cell_type": "markdown",
   "metadata": {},
   "source": [
    "The `interaction` object keeps track of the names of our feature combinations... sort of"
   ]
  },
  {
   "cell_type": "code",
   "execution_count": null,
   "metadata": {},
   "outputs": [],
   "source": [
    "print(interaction.get_feature_names())"
   ]
  },
  {
   "cell_type": "markdown",
   "metadata": {},
   "source": [
    "Assuming that a bevy of `xi xj`s aren't much more useful than the output of `model.summary()` we can do some hacky, Python nonsense to decode a bit."
   ]
  },
  {
   "cell_type": "markdown",
   "metadata": {},
   "source": [
    "For starters, we want to create a dictionary that maps `xi` to its corresponding feature name in our dataset.\n",
    "\n",
    "We'll use the `itertools.count()` function, as it's basically `enumerate`, but plays better with generator expressions."
   ]
  },
  {
   "cell_type": "code",
   "execution_count": null,
   "metadata": {},
   "outputs": [],
   "source": [
    "from itertools import count\n",
    "\n",
    "x_to_feature = dict(zip(('x{}'.format(i) for i in count()), X.columns))\n",
    "x_to_feature"
   ]
  },
  {
   "cell_type": "markdown",
   "metadata": {},
   "source": [
    "Next, you know it's Sound Data Science™ when we break out"
   ]
  },
  {
   "cell_type": "code",
   "execution_count": null,
   "metadata": {},
   "outputs": [],
   "source": [
    "import re"
   ]
  },
  {
   "cell_type": "markdown",
   "metadata": {},
   "source": [
    "Finally, this [little diddy](https://www.youtube.com/watch?v=9VBSH-2fMuw) goes through and makes the appropriate substitutions for `xi` to their respective feature names, then replaces spaces with underscores so `pandas` references isn't such a chore"
   ]
  },
  {
   "cell_type": "code",
   "execution_count": null,
   "metadata": {},
   "outputs": [],
   "source": [
    "# necessary so `x11` gets a chance to swap before \n",
    "# before `x1` leaves us with \"season1\" where we wanted\n",
    "# \"windspeed\"\n",
    "feature_keys = list(x_to_feature.keys())[::-1]\n",
    "\n",
    "features = []\n",
    "\n",
    "for feature in interaction.get_feature_names():\n",
    "    for key in feature_keys:\n",
    "        feature_name = x_to_feature[key]\n",
    "        feature = re.sub(key, feature_name, feature)\n",
    "    feature = re.sub(' ', '_', feature)\n",
    "    features.append(feature)"
   ]
  },
  {
   "cell_type": "markdown",
   "metadata": {},
   "source": [
    "Then we'll slap these feature names onto our big ol' dataset"
   ]
  },
  {
   "cell_type": "code",
   "execution_count": null,
   "metadata": {},
   "outputs": [],
   "source": [
    "import pandas as pd\n",
    "import statsmodels.api as sm\n",
    "\n",
    "X_all_inter = pd.DataFrame(X_inter, columns=features)\n",
    "X_all_inter_const = sm.add_constant(X_all_inter)"
   ]
  },
  {
   "cell_type": "markdown",
   "metadata": {},
   "source": [
    "And refit"
   ]
  },
  {
   "cell_type": "code",
   "execution_count": null,
   "metadata": {
    "scrolled": false
   },
   "outputs": [],
   "source": [
    "model = OLS(y, X_all_inter_const).fit()\n",
    "model.summary()"
   ]
  },
  {
   "cell_type": "markdown",
   "metadata": {},
   "source": [
    "### And that's Data Science!"
   ]
  },
  {
   "cell_type": "code",
   "execution_count": null,
   "metadata": {},
   "outputs": [],
   "source": [
    "from IPython.display import Image\n",
    "Image('images/we_did_it.jpg')"
   ]
  }
 ],
 "metadata": {
  "kernelspec": {
   "display_name": "Python 3",
   "language": "python",
   "name": "python3"
  },
  "language_info": {
   "codemirror_mode": {
    "name": "ipython",
    "version": 3
   },
   "file_extension": ".py",
   "mimetype": "text/x-python",
   "name": "python",
   "nbconvert_exporter": "python",
   "pygments_lexer": "ipython3",
   "version": "3.7.3"
  }
 },
 "nbformat": 4,
 "nbformat_minor": 2
}
