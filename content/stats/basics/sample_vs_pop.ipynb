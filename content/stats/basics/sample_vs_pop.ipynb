{
 "cells": [
  {
   "cell_type": "raw",
   "metadata": {},
   "source": [
    "---\n",
    "title: \"Samples, Populations, and their Symbols\"\n",
    "type: technical_note\n",
    "date: 2018-07-14\n",
    "---"
   ]
  },
  {
   "cell_type": "markdown",
   "metadata": {},
   "source": [
    "### Terminology"
   ]
  },
  {
   "cell_type": "markdown",
   "metadata": {},
   "source": [
    "**Samples** come from **populations**, and represent a smaller subset of all possible values.\n",
    "\n",
    "* e.g. If you email 100 clients at random from a list of 10,000 clients.\n",
    "\n",
    "**Statistics** describe *samples* whereas **parameters** describe populations (alliteration, FTW)\n",
    "\n",
    "* e.g. The \"average age of all clients\" vs \"average age of the 100 clients we selected\""
   ]
  },
  {
   "cell_type": "markdown",
   "metadata": {},
   "source": [
    "### Symbols"
   ]
  },
  {
   "cell_type": "markdown",
   "metadata": {},
   "source": [
    "Generaly, Greek tends to mean population, whereas things with hats tend to mean sample."
   ]
  },
  {
   "cell_type": "markdown",
   "metadata": {},
   "source": [
    "| | Population Parameters| Sample Statistic |\n",
    "| - | :----------: | :------: |\n",
    "| Proportions | $p$ or $\\pi$ | $\\hat{p}$ |\n",
    "| Means | $\\mu$ | $\\bar{x}$ |\n",
    "| Variability | $\\sigma$ | $SE$ |\n",
    "| Population Size | $N$ | $n$ |\n"
   ]
  },
  {
   "cell_type": "markdown",
   "metadata": {},
   "source": [
    "## Calculating Sample Statistics"
   ]
  },
  {
   "cell_type": "markdown",
   "metadata": {},
   "source": [
    "### Proportions"
   ]
  },
  {
   "cell_type": "markdown",
   "metadata": {},
   "source": [
    "Sample Proportion\n",
    "\n",
    "$$\\hat{p} = \\frac{Number\\_of\\_successes}{sample\\_size}= \\frac{X}{n}$$"
   ]
  },
  {
   "cell_type": "markdown",
   "metadata": {},
   "source": [
    "Standard Error\n",
    "\n",
    "$$SE_\\hat{p} = \\sqrt{\\frac{\\% successes \\times \\% failures}{sample\\_size}} = \\sqrt{\\frac{\\hat{p}(1 - \\hat{p})}{n}}$$"
   ]
  },
  {
   "cell_type": "markdown",
   "metadata": {},
   "source": [
    "### Means"
   ]
  },
  {
   "cell_type": "markdown",
   "metadata": {},
   "source": [
    "Sample Mean"
   ]
  },
  {
   "cell_type": "markdown",
   "metadata": {},
   "source": [
    "$$\\bar{X} = \\frac{sum\\_of\\_all\\_observations}{sample\\_size} = \\frac{x_1 + x_2 + \\dots + x_n}{n}$$"
   ]
  },
  {
   "cell_type": "markdown",
   "metadata": {},
   "source": [
    "Standard Error"
   ]
  },
  {
   "cell_type": "markdown",
   "metadata": {},
   "source": [
    "$$SE_\\bar{X} = \\frac{sample\\_std\\_dev}{factor\\_of\\_sample\\_size} = \\frac{s_x}{\\sqrt{n}}$$"
   ]
  },
  {
   "cell_type": "markdown",
   "metadata": {},
   "source": [
    "### A Note on the sqrt(n)'s"
   ]
  },
  {
   "cell_type": "markdown",
   "metadata": {},
   "source": [
    "Both Standard Errors listed above are measures of variation on the *center statistic* of the distribution"
   ]
  },
  {
   "cell_type": "markdown",
   "metadata": {},
   "source": [
    "Let's do a quick derivation on why this works."
   ]
  },
  {
   "cell_type": "markdown",
   "metadata": {},
   "source": [
    "If *x1, x2, ... , xn* are independent from a population w/ mean and stdev $\\mu, \\sigma$, then the variance of their total is \n",
    "\n",
    "$$n\\sigma^{2}$$"
   ]
  },
  {
   "cell_type": "markdown",
   "metadata": {},
   "source": [
    "And because the sample mean is expressed as\n",
    "\n",
    "$$\\bar{X} = \\frac{x_1, x_2, \\dots, x_n}{n}$$"
   ]
  },
  {
   "cell_type": "markdown",
   "metadata": {},
   "source": [
    "We can substitute that into the variance calculation"
   ]
  },
  {
   "cell_type": "markdown",
   "metadata": {},
   "source": [
    "$$ Var(\\bar{X}) = Var(\\frac{1}{n}\\sum\\limits_{i=1}^{n}X_i)$$\n",
    "$$= \\frac{1}{n^2}\\sum\\limits_{i=1}^{n}Var(X_i)$$\n",
    "$$= \\frac{1}{n^2}n^2\\sigma^2\\frac{1}{n}$$\n",
    "$$= \\frac{\\sigma^2}{n} $$"
   ]
  },
  {
   "cell_type": "markdown",
   "metadata": {},
   "source": [
    "Thus, the standard deviation of this becomes $\\frac{\\sigma}{\\sqrt{n}}$"
   ]
  }
 ],
 "metadata": {
  "anaconda-cloud": {},
  "kernelspec": {
   "display_name": "Python 3",
   "language": "python",
   "name": "python3"
  },
  "language_info": {
   "codemirror_mode": {
    "name": "ipython",
    "version": 3
   },
   "file_extension": ".py",
   "mimetype": "text/x-python",
   "name": "python",
   "nbconvert_exporter": "python",
   "pygments_lexer": "ipython3",
   "version": "3.6.3"
  }
 },
 "nbformat": 4,
 "nbformat_minor": 1
}
